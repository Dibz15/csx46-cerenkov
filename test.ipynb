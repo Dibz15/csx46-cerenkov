{
 "cells": [
  {
   "cell_type": "code",
   "execution_count": 7,
   "metadata": {},
   "outputs": [],
   "source": [
    "import pandas\n",
    "import xgboost as xgb\n",
    "import numpy as np\n",
    "import matplotlib.pyplot as plt\n"
   ]
  },
  {
   "cell_type": "code",
   "execution_count": 38,
   "metadata": {},
   "outputs": [],
   "source": [
    "df = pandas.read_csv('osu18_cerenkov_feat_mat.tsv', sep='\\t')\n",
    "df.head()\n",
    "\n",
    "names = df['name']\n",
    "del df['name']\n",
    "\n",
    "df = df.astype(float)\n",
    "\n",
    "labels = df['label']\n",
    "del df['label']\n",
    "\n",
    "labels = labels.fillna(0)\n",
    "labels = labels.astype(int)\n"
   ]
  },
  {
   "cell_type": "code",
   "execution_count": 3,
   "metadata": {},
   "outputs": [],
   "source": []
  },
  {
   "cell_type": "code",
   "execution_count": 4,
   "metadata": {},
   "outputs": [],
   "source": [
    "\"\"\"\n",
    "trainDf = df[:10000]\n",
    "testDf = df[10000:]\n",
    "\n",
    "\n",
    "dtrain = xgb.DMatrix(trainDf, label=labels[:10000])\n",
    "dtest = xgb.DMatrix(testDf, label=labels[10000:])\n",
    "\n",
    "\n",
    "evallist = [(dtest, 'eval'), (dtrain, 'train')]\n",
    "\n",
    "\n",
    "# param_dist = dict(max_depth=[7],\n",
    "#                   learning_rate=[0.1],\n",
    "#                   n_estimators=[40], \n",
    "#                   gamma=[10],\n",
    "#                   scale_pos_weight=[1],\n",
    "#                   base_score=[rare_event_rate],\n",
    "#                   subsample=[1])\n",
    "\n",
    "param = dict(max_depth=7,\n",
    "            learning_rate=0.1,\n",
    "            n_estimators=10,\n",
    "            gamma=10,\n",
    "            scale_pos_weight=1,\n",
    "            base_score=0.5,\n",
    "            subsample=1)\n",
    "\n",
    "num_round = 20\n",
    "\n",
    "bst = xgb.train(param, dtrain, num_round, evallist)\n",
    "\"\"\""
   ]
  },
  {
   "cell_type": "code",
   "execution_count": 87,
   "metadata": {},
   "outputs": [],
   "source": [
    "split = 5000\n",
    "\n",
    "trainX = df[:split]\n",
    "trainY = labels[:split]\n",
    "testX = df[split:]\n",
    "testY = labels[split:]\n"
   ]
  },
  {
   "cell_type": "code",
   "execution_count": 88,
   "metadata": {},
   "outputs": [
    {
     "name": "stdout",
     "output_type": "stream",
     "text": [
      "[0]\tvalidation_0-logloss:0.20067\tvalidation_1-logloss:0.21709\n",
      "[1]\tvalidation_0-logloss:0.18645\tvalidation_1-logloss:0.20856\n",
      "[2]\tvalidation_0-logloss:0.17646\tvalidation_1-logloss:0.20216\n",
      "[3]\tvalidation_0-logloss:0.16889\tvalidation_1-logloss:0.19707\n",
      "[4]\tvalidation_0-logloss:0.16230\tvalidation_1-logloss:0.19397\n",
      "[5]\tvalidation_0-logloss:0.15735\tvalidation_1-logloss:0.19066\n",
      "[6]\tvalidation_0-logloss:0.15270\tvalidation_1-logloss:0.18846\n",
      "[7]\tvalidation_0-logloss:0.14872\tvalidation_1-logloss:0.18748\n",
      "[8]\tvalidation_0-logloss:0.14578\tvalidation_1-logloss:0.18584\n",
      "[9]\tvalidation_0-logloss:0.14423\tvalidation_1-logloss:0.18485\n",
      "[10]\tvalidation_0-logloss:0.14154\tvalidation_1-logloss:0.18336\n",
      "[11]\tvalidation_0-logloss:0.13905\tvalidation_1-logloss:0.18218\n",
      "[12]\tvalidation_0-logloss:0.13698\tvalidation_1-logloss:0.18093\n",
      "[13]\tvalidation_0-logloss:0.13592\tvalidation_1-logloss:0.17993\n",
      "[14]\tvalidation_0-logloss:0.13412\tvalidation_1-logloss:0.17911\n",
      "[15]\tvalidation_0-logloss:0.13310\tvalidation_1-logloss:0.17850\n",
      "[16]\tvalidation_0-logloss:0.13167\tvalidation_1-logloss:0.17805\n",
      "[17]\tvalidation_0-logloss:0.13077\tvalidation_1-logloss:0.17779\n",
      "[18]\tvalidation_0-logloss:0.12958\tvalidation_1-logloss:0.17781\n",
      "[19]\tvalidation_0-logloss:0.12880\tvalidation_1-logloss:0.17760\n",
      "[20]\tvalidation_0-logloss:0.12880\tvalidation_1-logloss:0.17760\n",
      "[21]\tvalidation_0-logloss:0.12880\tvalidation_1-logloss:0.17760\n",
      "[22]\tvalidation_0-logloss:0.12880\tvalidation_1-logloss:0.17760\n",
      "[23]\tvalidation_0-logloss:0.12880\tvalidation_1-logloss:0.17760\n",
      "[24]\tvalidation_0-logloss:0.12880\tvalidation_1-logloss:0.17761\n",
      "[25]\tvalidation_0-logloss:0.12880\tvalidation_1-logloss:0.17761\n",
      "[26]\tvalidation_0-logloss:0.12880\tvalidation_1-logloss:0.17761\n",
      "[27]\tvalidation_0-logloss:0.12880\tvalidation_1-logloss:0.17761\n",
      "[28]\tvalidation_0-logloss:0.12880\tvalidation_1-logloss:0.17761\n",
      "[29]\tvalidation_0-logloss:0.12880\tvalidation_1-logloss:0.17761\n",
      "[30]\tvalidation_0-logloss:0.12880\tvalidation_1-logloss:0.17761\n",
      "[31]\tvalidation_0-logloss:0.12880\tvalidation_1-logloss:0.17761\n",
      "[32]\tvalidation_0-logloss:0.12880\tvalidation_1-logloss:0.17761\n",
      "[33]\tvalidation_0-logloss:0.12880\tvalidation_1-logloss:0.17761\n",
      "[34]\tvalidation_0-logloss:0.12880\tvalidation_1-logloss:0.17761\n",
      "[35]\tvalidation_0-logloss:0.12880\tvalidation_1-logloss:0.17761\n",
      "[36]\tvalidation_0-logloss:0.12880\tvalidation_1-logloss:0.17761\n",
      "[37]\tvalidation_0-logloss:0.12880\tvalidation_1-logloss:0.17761\n",
      "[38]\tvalidation_0-logloss:0.12880\tvalidation_1-logloss:0.17761\n",
      "[39]\tvalidation_0-logloss:0.12880\tvalidation_1-logloss:0.17761\n"
     ]
    }
   ],
   "source": [
    "param_dist = dict(max_depth=7,\n",
    "            learning_rate=0.1,\n",
    "            n_estimators=40,\n",
    "            gamma=10,\n",
    "            scale_pos_weight=1,\n",
    "            base_score=rare_event_rate,\n",
    "            subsample=1,\n",
    "            objective= 'binary:logistic' )\n",
    "\n",
    "#param_dist = { 'objective':'binary:logistic', 'n_estimators': 2 }\n",
    "\n",
    "_RANDOM_STATE = 1337\n",
    "# class_balance = len(y) / sum(y) - 1  # n_negative / n_positive\n",
    "rare_event_rate = sum(trainY) / len(trainY)\n",
    "\n",
    "clf = xgb.XGBClassifier(**param_dist, booster='gbtree', n_jobs=-1, random_state=_RANDOM_STATE)\n",
    "\n",
    "clf.fit( trainX, trainY,\n",
    "        eval_set=[(trainX, trainY), (testX, testY)],\n",
    "        eval_metric='logloss',\n",
    "        verbose=True)\n",
    "\n",
    "evals_result = clf.evals_result()"
   ]
  },
  {
   "cell_type": "code",
   "execution_count": 89,
   "metadata": {},
   "outputs": [
    {
     "name": "stdout",
     "output_type": "stream",
     "text": [
      "=== Performance Stats ===\n",
      "\n",
      "Classification Report:\n",
      "              precision    recall  f1-score   support\n",
      "\n",
      "           0       0.94      1.00      0.97      8789\n",
      "           1       0.51      0.04      0.08       558\n",
      "\n",
      "    accuracy                           0.94      9347\n",
      "   macro avg       0.73      0.52      0.53      9347\n",
      "weighted avg       0.92      0.94      0.92      9347\n",
      "\n",
      "\n",
      "Sensitivity (ability to correctly predict true): 0.044802867383512544\n",
      "Specificity (ability to correctly predict false): 0.9972693139151212\n",
      "Informedness (probability of informed decision): 0.04207218129863377\n",
      "Accuracy: 0.940408687279341\n",
      "ROC AUC: 0.5210360906493169\n"
     ]
    }
   ],
   "source": [
    "import performance\n",
    "\n",
    "num_round=25\n",
    "preds = clf.predict(testX)\n",
    "performance.printStats(testY, preds)"
   ]
  },
  {
   "cell_type": "code",
   "execution_count": null,
   "metadata": {},
   "outputs": [],
   "source": []
  }
 ],
 "metadata": {
  "kernelspec": {
   "display_name": "Python 3",
   "language": "python",
   "name": "python3"
  },
  "language_info": {
   "codemirror_mode": {
    "name": "ipython",
    "version": 3
   },
   "file_extension": ".py",
   "mimetype": "text/x-python",
   "name": "python",
   "nbconvert_exporter": "python",
   "pygments_lexer": "ipython3",
   "version": "3.7.3"
  }
 },
 "nbformat": 4,
 "nbformat_minor": 4
}
