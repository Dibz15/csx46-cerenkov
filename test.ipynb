{
 "cells": [
  {
   "cell_type": "code",
   "execution_count": 1,
   "metadata": {},
   "outputs": [],
   "source": [
    "import pandas\n",
    "import xgboost as xgb\n",
    "import numpy as np\n",
    "from collections import Counter\n",
    "import matplotlib.pyplot as plt\n",
    "from sklearn import metrics\n",
    "from sklearn.model_selection import cross_val_score\n",
    "from sklearn.model_selection import ShuffleSplit\n",
    "from sklearn.model_selection import train_test_split\n",
    "\n",
    "from imblearn.combine import SMOTETomek\n",
    "from imblearn.combine import SMOTEENN\n",
    "from imblearn.under_sampling import TomekLinks\n",
    "from imblearn.under_sampling import RandomUnderSampler\n",
    "from imblearn.under_sampling import ClusterCentroids\n",
    "from imblearn.under_sampling import EditedNearestNeighbours\n",
    "from imblearn.over_sampling import SMOTE\n"
   ]
  },
  {
   "cell_type": "code",
   "execution_count": 15,
   "metadata": {},
   "outputs": [],
   "source": [
    "df = pandas.read_csv('osu18_cerenkov_feat_mat.tsv', sep='\\t')\n",
    "df.head()\n",
    "\n",
    "names = df['name']\n",
    "del df['name']\n",
    "\n",
    "df = df.astype(float)\n",
    "\n",
    "labels = df['label']\n",
    "del df['label']\n",
    "\n",
    "df = df.fillna(0)\n",
    "labels = labels.fillna(0)\n",
    "labels = labels.astype(int)\n"
   ]
  },
  {
   "cell_type": "code",
   "execution_count": null,
   "metadata": {},
   "outputs": [],
   "source": []
  },
  {
   "cell_type": "code",
   "execution_count": 3,
   "metadata": {},
   "outputs": [
    {
     "data": {
      "text/plain": [
       "\"\\ntrainDf = df[:10000]\\ntestDf = df[10000:]\\n\\n\\ndtrain = xgb.DMatrix(trainDf, label=labels[:10000])\\ndtest = xgb.DMatrix(testDf, label=labels[10000:])\\n\\n\\nevallist = [(dtest, 'eval'), (dtrain, 'train')]\\n\\n\\n# param_dist = dict(max_depth=[7],\\n#                   learning_rate=[0.1],\\n#                   n_estimators=[40], \\n#                   gamma=[10],\\n#                   scale_pos_weight=[1],\\n#                   base_score=[rare_event_rate],\\n#                   subsample=[1])\\n\\nparam = dict(max_depth=7,\\n            learning_rate=0.1,\\n            n_estimators=10,\\n            gamma=10,\\n            scale_pos_weight=1,\\n            base_score=0.5,\\n            subsample=1)\\n\\nnum_round = 20\\n\\nbst = xgb.train(param, dtrain, num_round, evallist)\\n\""
      ]
     },
     "execution_count": 3,
     "metadata": {},
     "output_type": "execute_result"
    }
   ],
   "source": [
    "\"\"\"\n",
    "trainDf = df[:10000]\n",
    "testDf = df[10000:]\n",
    "\n",
    "\n",
    "dtrain = xgb.DMatrix(trainDf, label=labels[:10000])\n",
    "dtest = xgb.DMatrix(testDf, label=labels[10000:])\n",
    "\n",
    "\n",
    "evallist = [(dtest, 'eval'), (dtrain, 'train')]\n",
    "\n",
    "\n",
    "# param_dist = dict(max_depth=[7],\n",
    "#                   learning_rate=[0.1],\n",
    "#                   n_estimators=[40], \n",
    "#                   gamma=[10],\n",
    "#                   scale_pos_weight=[1],\n",
    "#                   base_score=[rare_event_rate],\n",
    "#                   subsample=[1])\n",
    "\n",
    "param = dict(max_depth=7,\n",
    "            learning_rate=0.1,\n",
    "            n_estimators=10,\n",
    "            gamma=10,\n",
    "            scale_pos_weight=1,\n",
    "            base_score=0.5,\n",
    "            subsample=1)\n",
    "\n",
    "num_round = 20\n",
    "\n",
    "bst = xgb.train(param, dtrain, num_round, evallist)\n",
    "\"\"\""
   ]
  },
  {
   "cell_type": "code",
   "execution_count": 16,
   "metadata": {},
   "outputs": [
    {
     "name": "stdout",
     "output_type": "stream",
     "text": [
      "Counter({0: 10805, 1: 672})\n",
      "(17625, 587)\n",
      "Counter({1: 9607, 0: 8018})\n"
     ]
    }
   ],
   "source": [
    "split = 5000\n",
    "\n",
    "X = df\n",
    "y = labels\n",
    "\n",
    "trainX, testX, trainY, testY = train_test_split(X, y, test_size=0.2)\n",
    "\n",
    "print(Counter(trainY))\n",
    "\n",
    "#smt = SMOTETomek(sampling_strategy='auto')\n",
    "#smt = RandomUnderSampler(sampling_strategy='auto')\n",
    "#smt = TomekLinks(sampling_strategy='auto')\n",
    "#smt = ClusterCentroids(sampling_strategy='auto')\n",
    "#enn = EditedNearestNeighbours(sampling_strategy='auto', n_neighbors=7)\n",
    "#smote = SMOTE(sampling_strategy='auto', k_neighbors=3)\n",
    "#smt = SMOTEENN(sampling_strategy='auto', smote=smote, enn=None)\n",
    "\n",
    "X_smt, y_smt = smt.fit_resample(trainX, trainY)\n",
    "\n",
    "print(X_smt.shape)\n",
    "print(Counter(y_smt))"
   ]
  },
  {
   "cell_type": "code",
   "execution_count": 17,
   "metadata": {},
   "outputs": [
    {
     "name": "stdout",
     "output_type": "stream",
     "text": [
      "[0]\tvalidation_0-logloss:0.61720\tvalidation_1-logloss:0.70059\n",
      "[1]\tvalidation_0-logloss:0.55613\tvalidation_1-logloss:0.63615\n",
      "[2]\tvalidation_0-logloss:0.50309\tvalidation_1-logloss:0.58193\n",
      "[3]\tvalidation_0-logloss:0.45806\tvalidation_1-logloss:0.53804\n",
      "[4]\tvalidation_0-logloss:0.41725\tvalidation_1-logloss:0.49703\n",
      "[5]\tvalidation_0-logloss:0.38204\tvalidation_1-logloss:0.46363\n",
      "[6]\tvalidation_0-logloss:0.35187\tvalidation_1-logloss:0.43489\n",
      "[7]\tvalidation_0-logloss:0.32666\tvalidation_1-logloss:0.41058\n",
      "[8]\tvalidation_0-logloss:0.30332\tvalidation_1-logloss:0.38899\n",
      "[9]\tvalidation_0-logloss:0.28201\tvalidation_1-logloss:0.36923\n",
      "[10]\tvalidation_0-logloss:0.26431\tvalidation_1-logloss:0.35289\n",
      "[11]\tvalidation_0-logloss:0.24704\tvalidation_1-logloss:0.33702\n",
      "[12]\tvalidation_0-logloss:0.23205\tvalidation_1-logloss:0.32363\n",
      "[13]\tvalidation_0-logloss:0.21778\tvalidation_1-logloss:0.31083\n",
      "[14]\tvalidation_0-logloss:0.20535\tvalidation_1-logloss:0.30014\n",
      "[15]\tvalidation_0-logloss:0.19425\tvalidation_1-logloss:0.29120\n",
      "[16]\tvalidation_0-logloss:0.18408\tvalidation_1-logloss:0.28239\n",
      "[17]\tvalidation_0-logloss:0.17476\tvalidation_1-logloss:0.27465\n",
      "[18]\tvalidation_0-logloss:0.16665\tvalidation_1-logloss:0.26812\n",
      "[19]\tvalidation_0-logloss:0.15883\tvalidation_1-logloss:0.26158\n",
      "[20]\tvalidation_0-logloss:0.15158\tvalidation_1-logloss:0.25481\n",
      "[21]\tvalidation_0-logloss:0.14508\tvalidation_1-logloss:0.24950\n",
      "[22]\tvalidation_0-logloss:0.13917\tvalidation_1-logloss:0.24392\n",
      "[23]\tvalidation_0-logloss:0.13377\tvalidation_1-logloss:0.23990\n",
      "[24]\tvalidation_0-logloss:0.12877\tvalidation_1-logloss:0.23641\n",
      "[25]\tvalidation_0-logloss:0.12403\tvalidation_1-logloss:0.23270\n",
      "[26]\tvalidation_0-logloss:0.11951\tvalidation_1-logloss:0.22828\n",
      "[27]\tvalidation_0-logloss:0.11635\tvalidation_1-logloss:0.22509\n",
      "[28]\tvalidation_0-logloss:0.11168\tvalidation_1-logloss:0.22117\n",
      "[29]\tvalidation_0-logloss:0.10782\tvalidation_1-logloss:0.21807\n",
      "[30]\tvalidation_0-logloss:0.10442\tvalidation_1-logloss:0.21605\n",
      "[31]\tvalidation_0-logloss:0.10136\tvalidation_1-logloss:0.21342\n",
      "[32]\tvalidation_0-logloss:0.09850\tvalidation_1-logloss:0.21190\n",
      "[33]\tvalidation_0-logloss:0.09542\tvalidation_1-logloss:0.20926\n",
      "[34]\tvalidation_0-logloss:0.09287\tvalidation_1-logloss:0.20717\n",
      "[35]\tvalidation_0-logloss:0.09038\tvalidation_1-logloss:0.20486\n",
      "[36]\tvalidation_0-logloss:0.08822\tvalidation_1-logloss:0.20340\n",
      "[37]\tvalidation_0-logloss:0.08631\tvalidation_1-logloss:0.20225\n",
      "[38]\tvalidation_0-logloss:0.08363\tvalidation_1-logloss:0.19951\n",
      "[39]\tvalidation_0-logloss:0.08196\tvalidation_1-logloss:0.19868\n"
     ]
    }
   ],
   "source": [
    "_RANDOM_STATE = 1337\n",
    "# class_balance = len(y) / sum(y) - 1  # n_negative / n_positive\n",
    "rare_event_rate = sum(y_smt) / len(y_smt)\n",
    "\n",
    "param_dist = dict(max_depth=7,\n",
    "            learning_rate=0.1,\n",
    "            n_estimators=40,\n",
    "            gamma=10,\n",
    "            scale_pos_weight=1,\n",
    "            base_score=rare_event_rate,\n",
    "            subsample=1,\n",
    "            objective= 'binary:logistic' )\n",
    "\n",
    "#param_dist = { 'objective':'binary:logistic', 'n_estimators': 2 }\n",
    "\n",
    "clf = xgb.XGBClassifier(**param_dist, booster='gbtree', n_jobs=-1, random_state=_RANDOM_STATE)\n",
    "\n",
    "clf.fit( X_smt, y_smt,\n",
    "        eval_set=[(X_smt, y_smt), (testX, testY)],\n",
    "        eval_metric='logloss',\n",
    "        verbose=True)\n",
    "\n",
    "#cv = ShuffleSplit(n_splits=5, test_size=0.3, random_state=0)\n",
    "#cross_val_score(clf, X, y, cv=cv)\n",
    "\n",
    "evals_result = clf.evals_result()"
   ]
  },
  {
   "cell_type": "code",
   "execution_count": 18,
   "metadata": {},
   "outputs": [
    {
     "name": "stdout",
     "output_type": "stream",
     "text": [
      "=== Performance Stats ===\n",
      "\n",
      "Classification Report:\n",
      "              precision    recall  f1-score   support\n",
      "\n",
      "           0       0.96      0.97      0.96      2702\n",
      "           1       0.42      0.40      0.41       168\n",
      "\n",
      "    accuracy                           0.93      2870\n",
      "   macro avg       0.69      0.68      0.69      2870\n",
      "weighted avg       0.93      0.93      0.93      2870\n",
      "\n",
      "\n",
      "Sensitivity (ability to correctly predict true): 0.39880952380952384\n",
      "Specificity (ability to correctly predict false): 0.9652109548482606\n",
      "Informedness (probability of informed decision): 0.36402047865778453\n",
      "Accuracy: 0.9320557491289199\n",
      "ROC AUC: 0.6820102393288922\n",
      "Confusion matrix:\n",
      " [[2608   94]\n",
      " [ 101   67]]\n"
     ]
    }
   ],
   "source": [
    "import performance\n",
    "\n",
    "num_round=25\n",
    "preds = clf.predict(testX)\n",
    "performance.printStats(testY, preds)\n",
    "\n",
    "from matplotlib import pyplot as plt\n",
    "\n",
    "conf_mat = performance.getConfusionMatrix(testY, preds)\n",
    "print('Confusion matrix:\\n', conf_mat)"
   ]
  },
  {
   "cell_type": "code",
   "execution_count": null,
   "metadata": {},
   "outputs": [],
   "source": []
  },
  {
   "cell_type": "code",
   "execution_count": null,
   "metadata": {},
   "outputs": [],
   "source": []
  }
 ],
 "metadata": {
  "kernelspec": {
   "display_name": "Python 3",
   "language": "python",
   "name": "python3"
  },
  "language_info": {
   "codemirror_mode": {
    "name": "ipython",
    "version": 3
   },
   "file_extension": ".py",
   "mimetype": "text/x-python",
   "name": "python",
   "nbconvert_exporter": "python",
   "pygments_lexer": "ipython3",
   "version": "3.7.3"
  }
 },
 "nbformat": 4,
 "nbformat_minor": 4
}
