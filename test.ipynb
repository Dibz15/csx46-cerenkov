{
 "cells": [
  {
   "cell_type": "code",
   "execution_count": 3,
   "metadata": {},
   "outputs": [],
   "source": [
    "import pandas\n",
    "import xgboost as xgb\n",
    "import numpy as np\n",
    "\n",
    "df = pandas.read_csv('osu18_cerenkov_feat_mat.tsv', sep='\\t')\n",
    "df.head()\n",
    "\n",
    "labels = df['label']\n",
    "del df['label']\n",
    "\n",
    "names = df['name']\n",
    "del df['name']"
   ]
  },
  {
   "cell_type": "code",
   "execution_count": 4,
   "metadata": {},
   "outputs": [],
   "source": [
    "trainDf = df[:10000]\n",
    "testDf = df[10000:]"
   ]
  },
  {
   "cell_type": "code",
   "execution_count": 5,
   "metadata": {},
   "outputs": [],
   "source": [
    "dtrain = xgb.DMatrix(trainDf, label=labels[:10000])\n",
    "dtest = xgb.DMatrix(testDf, label=labels[10000:])\n",
    "\n",
    "\n",
    "\n",
    "evallist = [(dtest, 'eval'), (dtrain, 'train')]\n",
    "\n",
    "\n",
    "# param_dist = dict(max_depth=[7],\n",
    "#                   learning_rate=[0.1],\n",
    "#                   n_estimators=[40], \n",
    "#                   gamma=[10],\n",
    "#                   scale_pos_weight=[1],\n",
    "#                   base_score=[rare_event_rate],\n",
    "#                   subsample=[1])\n",
    "\n"
   ]
  },
  {
   "cell_type": "code",
   "execution_count": 10,
   "metadata": {},
   "outputs": [
    {
     "name": "stdout",
     "output_type": "stream",
     "text": [
      "[01:00:14] WARNING: /workspace/src/learner.cc:328: \n",
      "Parameters: { n_estimators } might not be used.\n",
      "\n",
      "  This may not be accurate due to some parameters are only used in language bindings but\n",
      "  passed down to XGBoost core.  Or some parameters are not used but slip through this\n",
      "  verification. Please open an issue if you find above cases.\n",
      "\n",
      "\n",
      "[0]\teval-rmse:nan\ttrain-rmse:0.46020\n",
      "[1]\teval-rmse:nan\ttrain-rmse:0.42525\n",
      "[2]\teval-rmse:nan\ttrain-rmse:0.39490\n",
      "[3]\teval-rmse:nan\ttrain-rmse:0.36848\n",
      "[4]\teval-rmse:nan\ttrain-rmse:0.34555\n"
     ]
    }
   ],
   "source": [
    "param = dict(max_depth=7,\n",
    "            learning_rate=0.1,\n",
    "            n_estimators=10,\n",
    "            gamma=10,\n",
    "            scale_pos_weight=1,\n",
    "            base_score=0.5,\n",
    "            subsample=1)\n",
    "\n",
    "num_round = 5\n",
    "\n",
    "bst = xgb.train(param, dtrain, num_round, evallist)"
   ]
  },
  {
   "cell_type": "code",
   "execution_count": null,
   "metadata": {},
   "outputs": [],
   "source": []
  },
  {
   "cell_type": "code",
   "execution_count": null,
   "metadata": {},
   "outputs": [],
   "source": []
  }
 ],
 "metadata": {
  "kernelspec": {
   "display_name": "Python 3",
   "language": "python",
   "name": "python3"
  },
  "language_info": {
   "codemirror_mode": {
    "name": "ipython",
    "version": 3
   },
   "file_extension": ".py",
   "mimetype": "text/x-python",
   "name": "python",
   "nbconvert_exporter": "python",
   "pygments_lexer": "ipython3",
   "version": "3.7.3"
  }
 },
 "nbformat": 4,
 "nbformat_minor": 4
}
