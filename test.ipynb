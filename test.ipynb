{
 "cells": [
  {
   "cell_type": "code",
   "execution_count": 23,
   "metadata": {},
   "outputs": [],
   "source": [
    "import pandas\n",
    "import xgboost as xgb\n",
    "import numpy as np\n",
    "from collections import Counter\n",
    "import matplotlib.pyplot as plt\n",
    "from sklearn import metrics\n",
    "from sklearn.model_selection import cross_val_score\n",
    "from sklearn.model_selection import ShuffleSplit\n",
    "from sklearn.model_selection import train_test_split\n",
    "\n",
    "from imblearn.combine import SMOTETomek\n",
    "from imblearn.combine import SMOTEENN\n",
    "from imblearn.under_sampling import TomekLinks\n",
    "from imblearn.under_sampling import RandomUnderSampler\n",
    "from imblearn.under_sampling import ClusterCentroids\n",
    "from imblearn.under_sampling import EditedNearestNeighbours\n",
    "from imblearn.over_sampling import SMOTE\n",
    "\n",
    "import crossValidate\n"
   ]
  },
  {
   "cell_type": "code",
   "execution_count": 24,
   "metadata": {},
   "outputs": [],
   "source": [
    "df = pandas.read_csv('osu18_cerenkov_feat_mat.tsv', sep='\\t')\n",
    "df.head()\n",
    "\n",
    "names = df['name']\n",
    "del df['name']\n",
    "\n",
    "df = df.astype(float)\n",
    "\n",
    "labels = df['label']\n",
    "del df['label']\n",
    "\n",
    "df = df.fillna(0)\n",
    "labels = labels.fillna(0)\n",
    "labels = labels.astype(int)\n"
   ]
  },
  {
   "cell_type": "code",
   "execution_count": null,
   "metadata": {},
   "outputs": [],
   "source": []
  },
  {
   "cell_type": "code",
   "execution_count": 3,
   "metadata": {},
   "outputs": [
    {
     "data": {
      "text/plain": [
       "\"\\ntrainDf = df[:10000]\\ntestDf = df[10000:]\\n\\n\\ndtrain = xgb.DMatrix(trainDf, label=labels[:10000])\\ndtest = xgb.DMatrix(testDf, label=labels[10000:])\\n\\n\\nevallist = [(dtest, 'eval'), (dtrain, 'train')]\\n\\n\\n# param_dist = dict(max_depth=[7],\\n#                   learning_rate=[0.1],\\n#                   n_estimators=[40], \\n#                   gamma=[10],\\n#                   scale_pos_weight=[1],\\n#                   base_score=[rare_event_rate],\\n#                   subsample=[1])\\n\\nparam = dict(max_depth=7,\\n            learning_rate=0.1,\\n            n_estimators=10,\\n            gamma=10,\\n            scale_pos_weight=1,\\n            base_score=0.5,\\n            subsample=1)\\n\\nnum_round = 20\\n\\nbst = xgb.train(param, dtrain, num_round, evallist)\\n\""
      ]
     },
     "execution_count": 3,
     "metadata": {},
     "output_type": "execute_result"
    }
   ],
   "source": [
    "\"\"\"\n",
    "trainDf = df[:10000]\n",
    "testDf = df[10000:]\n",
    "\n",
    "\n",
    "dtrain = xgb.DMatrix(trainDf, label=labels[:10000])\n",
    "dtest = xgb.DMatrix(testDf, label=labels[10000:])\n",
    "\n",
    "\n",
    "evallist = [(dtest, 'eval'), (dtrain, 'train')]\n",
    "\n",
    "\n",
    "# param_dist = dict(max_depth=[7],\n",
    "#                   learning_rate=[0.1],\n",
    "#                   n_estimators=[40], \n",
    "#                   gamma=[10],\n",
    "#                   scale_pos_weight=[1],\n",
    "#                   base_score=[rare_event_rate],\n",
    "#                   subsample=[1])\n",
    "\n",
    "param = dict(max_depth=7,\n",
    "            learning_rate=0.1,\n",
    "            n_estimators=10,\n",
    "            gamma=10,\n",
    "            scale_pos_weight=1,\n",
    "            base_score=0.5,\n",
    "            subsample=1)\n",
    "\n",
    "num_round = 20\n",
    "\n",
    "bst = xgb.train(param, dtrain, num_round, evallist)\n",
    "\"\"\""
   ]
  },
  {
   "cell_type": "code",
   "execution_count": 25,
   "metadata": {},
   "outputs": [
    {
     "name": "stdout",
     "output_type": "stream",
     "text": [
      "Counter({0: 10813, 1: 664})\n",
      "Counter({0: 664, 1: 664})\n"
     ]
    }
   ],
   "source": [
    "split = 5000\n",
    "\n",
    "X = df\n",
    "y = labels\n",
    "\n",
    "trainX, testX, trainY, testY = train_test_split(X, y, test_size=0.2)\n",
    "\n",
    "print(Counter(trainY))\n",
    "\n",
    "#smt = SMOTETomek(sampling_strategy='auto')\n",
    "smt = RandomUnderSampler(sampling_strategy='auto')\n",
    "#smt = TomekLinks(sampling_strategy='auto')\n",
    "#smt = ClusterCentroids(sampling_strategy='auto')\n",
    "#enn = EditedNearestNeighbours(sampling_strategy='auto', n_neighbors=7)\n",
    "#smote = SMOTE(sampling_strategy='auto', k_neighbors=3)\n",
    "#smt = SMOTEENN(sampling_strategy='auto', smote=smote, enn=None)\n",
    "\n",
    "X_smt, y_smt = smt.fit_resample(trainX, trainY)\n",
    "\n",
    "print(Counter(y_smt))"
   ]
  },
  {
   "cell_type": "code",
   "execution_count": 26,
   "metadata": {},
   "outputs": [
    {
     "name": "stdout",
     "output_type": "stream",
     "text": [
      "[0]\tvalidation_0-logloss:0.65216\tvalidation_1-logloss:0.66436\n",
      "[1]\tvalidation_0-logloss:0.62010\tvalidation_1-logloss:0.63929\n",
      "[2]\tvalidation_0-logloss:0.58974\tvalidation_1-logloss:0.61989\n",
      "[3]\tvalidation_0-logloss:0.56829\tvalidation_1-logloss:0.60430\n",
      "[4]\tvalidation_0-logloss:0.54644\tvalidation_1-logloss:0.59000\n",
      "[5]\tvalidation_0-logloss:0.52736\tvalidation_1-logloss:0.58127\n",
      "[6]\tvalidation_0-logloss:0.51216\tvalidation_1-logloss:0.57092\n",
      "[7]\tvalidation_0-logloss:0.50087\tvalidation_1-logloss:0.56278\n",
      "[8]\tvalidation_0-logloss:0.49091\tvalidation_1-logloss:0.55568\n",
      "[9]\tvalidation_0-logloss:0.48265\tvalidation_1-logloss:0.55059\n",
      "[10]\tvalidation_0-logloss:0.46794\tvalidation_1-logloss:0.54429\n",
      "[11]\tvalidation_0-logloss:0.45997\tvalidation_1-logloss:0.54033\n",
      "[12]\tvalidation_0-logloss:0.45413\tvalidation_1-logloss:0.53639\n",
      "[13]\tvalidation_0-logloss:0.44976\tvalidation_1-logloss:0.53373\n",
      "[14]\tvalidation_0-logloss:0.44325\tvalidation_1-logloss:0.52881\n",
      "[15]\tvalidation_0-logloss:0.43775\tvalidation_1-logloss:0.52365\n",
      "[16]\tvalidation_0-logloss:0.43345\tvalidation_1-logloss:0.52186\n",
      "[17]\tvalidation_0-logloss:0.42613\tvalidation_1-logloss:0.51718\n",
      "[18]\tvalidation_0-logloss:0.42089\tvalidation_1-logloss:0.51570\n",
      "[19]\tvalidation_0-logloss:0.41787\tvalidation_1-logloss:0.51441\n",
      "[20]\tvalidation_0-logloss:0.41386\tvalidation_1-logloss:0.51216\n",
      "[21]\tvalidation_0-logloss:0.40789\tvalidation_1-logloss:0.50920\n",
      "[22]\tvalidation_0-logloss:0.40641\tvalidation_1-logloss:0.50963\n",
      "[23]\tvalidation_0-logloss:0.40330\tvalidation_1-logloss:0.50720\n",
      "[24]\tvalidation_0-logloss:0.39842\tvalidation_1-logloss:0.50516\n",
      "[25]\tvalidation_0-logloss:0.39323\tvalidation_1-logloss:0.50433\n",
      "[26]\tvalidation_0-logloss:0.39323\tvalidation_1-logloss:0.50441\n",
      "[27]\tvalidation_0-logloss:0.39323\tvalidation_1-logloss:0.50448\n",
      "[28]\tvalidation_0-logloss:0.39323\tvalidation_1-logloss:0.50455\n",
      "[29]\tvalidation_0-logloss:0.39323\tvalidation_1-logloss:0.50460\n",
      "[30]\tvalidation_0-logloss:0.39323\tvalidation_1-logloss:0.50466\n",
      "[31]\tvalidation_0-logloss:0.39323\tvalidation_1-logloss:0.50470\n",
      "[32]\tvalidation_0-logloss:0.39323\tvalidation_1-logloss:0.50475\n",
      "[33]\tvalidation_0-logloss:0.39323\tvalidation_1-logloss:0.50479\n",
      "[34]\tvalidation_0-logloss:0.39323\tvalidation_1-logloss:0.50482\n",
      "[35]\tvalidation_0-logloss:0.39323\tvalidation_1-logloss:0.50485\n",
      "[36]\tvalidation_0-logloss:0.39323\tvalidation_1-logloss:0.50488\n",
      "[37]\tvalidation_0-logloss:0.39323\tvalidation_1-logloss:0.50491\n",
      "[38]\tvalidation_0-logloss:0.39323\tvalidation_1-logloss:0.50493\n",
      "[39]\tvalidation_0-logloss:0.39323\tvalidation_1-logloss:0.50495\n",
      "[40]\tvalidation_0-logloss:0.39323\tvalidation_1-logloss:0.50497\n",
      "[41]\tvalidation_0-logloss:0.39323\tvalidation_1-logloss:0.50498\n",
      "[42]\tvalidation_0-logloss:0.39323\tvalidation_1-logloss:0.50500\n",
      "[43]\tvalidation_0-logloss:0.39323\tvalidation_1-logloss:0.50501\n",
      "[44]\tvalidation_0-logloss:0.39323\tvalidation_1-logloss:0.50502\n",
      "[45]\tvalidation_0-logloss:0.39323\tvalidation_1-logloss:0.50503\n",
      "[46]\tvalidation_0-logloss:0.39323\tvalidation_1-logloss:0.50504\n",
      "[47]\tvalidation_0-logloss:0.39323\tvalidation_1-logloss:0.50505\n",
      "[48]\tvalidation_0-logloss:0.39323\tvalidation_1-logloss:0.50506\n",
      "[49]\tvalidation_0-logloss:0.39323\tvalidation_1-logloss:0.50507\n"
     ]
    }
   ],
   "source": [
    "_RANDOM_STATE = 1337\n",
    "# class_balance = len(y) / sum(y) - 1  # n_negative / n_positive\n",
    "rare_event_rate = sum(y_smt) / len(y_smt)\n",
    "\n",
    "param_dist = dict(max_depth=7,\n",
    "            learning_rate=0.1,\n",
    "            n_estimators=50,\n",
    "            gamma=10,\n",
    "            scale_pos_weight=1,\n",
    "            base_score=rare_event_rate,\n",
    "            subsample=1,\n",
    "            objective= 'binary:logistic' )\n",
    "\n",
    "#param_dist = { 'objective':'binary:logistic', 'n_estimators': 2 }\n",
    "\n",
    "clf = xgb.XGBClassifier(**param_dist, booster='gbtree', n_jobs=-1, random_state=_RANDOM_STATE)\n",
    "\n",
    "\n",
    "\n",
    "\n",
    "clf.fit( X_smt, y_smt,\n",
    "        eval_set=[(X_smt, y_smt), (testX, testY)],\n",
    "        eval_metric='logloss',\n",
    "        verbose=True)\n",
    "\n",
    "#cv = ShuffleSplit(n_splits=5, test_size=0.3, random_state=0)\n",
    "#cross_val_score(clf, X, y, cv=cv)\n",
    "\n",
    "evals_result = clf.evals_result()"
   ]
  },
  {
   "cell_type": "code",
   "execution_count": 27,
   "metadata": {},
   "outputs": [
    {
     "name": "stdout",
     "output_type": "stream",
     "text": [
      "=== Performance Stats ===\n",
      "\n",
      "Classification Report:\n",
      "              precision    recall  f1-score   support\n",
      "\n",
      "           0       0.98      0.79      0.87      2694\n",
      "           1       0.19      0.74      0.30       176\n",
      "\n",
      "    accuracy                           0.79      2870\n",
      "   macro avg       0.58      0.76      0.59      2870\n",
      "weighted avg       0.93      0.79      0.84      2870\n",
      "\n",
      "\n",
      "Sensitivity (ability to correctly predict true): 0.7386363636363636\n",
      "Specificity (ability to correctly predict false): 0.7884187082405345\n",
      "Informedness (probability of informed decision): 0.527055071876898\n",
      "Accuracy: 0.7853658536585366\n",
      "ROC AUC: 0.7635275359384491\n",
      "Confusion matrix:\n",
      " [[2124  570]\n",
      " [  46  130]]\n"
     ]
    }
   ],
   "source": [
    "import performance\n",
    "\n",
    "num_round=25\n",
    "preds = clf.predict(testX)\n",
    "performance.printStats(testY, preds)\n",
    "\n",
    "from matplotlib import pyplot as plt\n",
    "\n",
    "conf_mat = performance.getConfusionMatrix(testY, preds)\n",
    "print('Confusion matrix:\\n', conf_mat)"
   ]
  },
  {
   "cell_type": "code",
   "execution_count": null,
   "metadata": {},
   "outputs": [],
   "source": []
  },
  {
   "cell_type": "code",
   "execution_count": null,
   "metadata": {},
   "outputs": [],
   "source": []
  }
 ],
 "metadata": {
  "kernelspec": {
   "display_name": "Python 3",
   "language": "python",
   "name": "python3"
  },
  "language_info": {
   "codemirror_mode": {
    "name": "ipython",
    "version": 3
   },
   "file_extension": ".py",
   "mimetype": "text/x-python",
   "name": "python",
   "nbconvert_exporter": "python",
   "pygments_lexer": "ipython3",
   "version": "3.7.3"
  }
 },
 "nbformat": 4,
 "nbformat_minor": 4
}
